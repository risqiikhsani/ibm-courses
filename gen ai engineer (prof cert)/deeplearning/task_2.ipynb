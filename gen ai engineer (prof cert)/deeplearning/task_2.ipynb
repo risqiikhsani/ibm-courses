{
 "cells": [
  {
   "cell_type": "code",
   "execution_count": null,
   "metadata": {
    "vscode": {
     "languageId": "plaintext"
    }
   },
   "outputs": [],
   "source": []
  },
  {
   "cell_type": "markdown",
   "metadata": {},
   "source": [
    "Result \n",
    "\n",
    "Mean MSE (Normalized Data): 362.76618683666015\n",
    "Standard Deviation of MSE (Normalized Data): 109.7616227532094"
   ]
  }
 ],
 "metadata": {
  "language_info": {
   "name": "python"
  }
 },
 "nbformat": 4,
 "nbformat_minor": 2
}
