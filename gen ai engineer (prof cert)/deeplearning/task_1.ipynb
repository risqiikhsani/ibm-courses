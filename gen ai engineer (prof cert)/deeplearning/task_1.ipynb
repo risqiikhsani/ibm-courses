{
 "cells": [
  {
   "cell_type": "code",
   "execution_count": null,
   "metadata": {
    "vscode": {
     "languageId": "plaintext"
    }
   },
   "outputs": [],
   "source": [
    "import pandas as pd\n",
    "import numpy as np\n",
    "import keras\n",
    "from sklearn.model_selection import train_test_split\n",
    "from sklearn.metrics import mean_squared_error\n",
    "from keras.models import Sequential\n",
    "from keras.layers import Dense\n",
    "from keras.layers import Input\n",
    "from keras.optimizers import Adam\n",
    "\n",
    "# TASK 1\n",
    "\n",
    "# Load the data\n",
    "filepath = 'https://s3-api.us-geo.objectstorage.softlayer.net/cf-courses-data/CognitiveClass/DL0101EN/labs/data/concrete_data.csv'\n",
    "concrete_data = pd.read_csv(filepath)\n",
    "\n",
    "# Split the data into predictors and target\n",
    "concrete_data_columns = concrete_data.columns\n",
    "predictors = concrete_data[concrete_data_columns[concrete_data_columns != 'Strength']]  # all columns except Strength\n",
    "target = concrete_data['Strength']  # Strength column\n",
    "\n",
    "# Normalize the predictors\n",
    "predictors_norm = (predictors - predictors.mean()) / predictors.std()\n",
    "\n",
    "# Function to build a baseline model with 10 nodes in the hidden layer\n",
    "def build_model():\n",
    "    model = Sequential()\n",
    "    model.add(Input(shape=(predictors_norm.shape[1],)))\n",
    "    model.add(Dense(10, activation='relu'))  # Hidden layer with 10 nodes\n",
    "    model.add(Dense(1))  # Output layer\n",
    "    model.compile(optimizer=Adam(), loss='mean_squared_error')  # Adam optimizer and MSE loss function\n",
    "    return model\n",
    "\n",
    "# List to store MSE values\n",
    "mse_values = []\n",
    "\n",
    "# Repeat the process 50 times\n",
    "for _ in range(50):\n",
    "    # Split data into train and test sets (70% train, 30% test)\n",
    "    X_train, X_test, y_train, y_test = train_test_split(predictors_norm, target, test_size=0.3, random_state=42)\n",
    "    \n",
    "    # Build the model\n",
    "    model = build_model()\n",
    "    \n",
    "    # Train the model\n",
    "    model.fit(X_train, y_train, epochs=50, verbose=0)\n",
    "    \n",
    "    # Predict on the test set\n",
    "    y_pred = model.predict(X_test)\n",
    "    \n",
    "    # Calculate the MSE on the test data\n",
    "    mse = mean_squared_error(y_test, y_pred)\n",
    "    mse_values.append(mse)\n",
    "\n",
    "# Calculate the mean and standard deviation of the MSE values\n",
    "mean_mse = np.mean(mse_values)\n",
    "std_mse = np.std(mse_values)\n",
    "\n",
    "# Report the results\n",
    "print(f\"Mean MSE: {mean_mse}\")\n",
    "print(f\"Standard Deviation of MSE: {std_mse}\")\n"
   ]
  },
  {
   "cell_type": "markdown",
   "metadata": {},
   "source": [
    "Result\n",
    "\n",
    "Mean MSE: 330.647903315955\n",
    "Standard Deviation of MSE: 84.53151719258733"
   ]
  }
 ],
 "metadata": {
  "language_info": {
   "name": "python"
  }
 },
 "nbformat": 4,
 "nbformat_minor": 2
}
